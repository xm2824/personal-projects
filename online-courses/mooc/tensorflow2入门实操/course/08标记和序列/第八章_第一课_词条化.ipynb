{
 "cells": [
  {
   "cell_type": "markdown",
   "metadata": {},
   "source": [
    "# 词条化\n",
    "\n",
    "**Idea:** 给每个单词赋予一个独一无二的数值， 以便于神经网络的学习。（**单词编码**）"
   ]
  },
  {
   "cell_type": "code",
   "execution_count": 1,
   "metadata": {
    "colab": {},
    "colab_type": "code",
    "id": "zaCMcjMQifQc",
    "pycharm": {
     "is_executing": false
    }
   },
   "outputs": [
    {
     "name": "stdout",
     "output_type": "stream",
     "text": [
      "{'love': 1, 'my': 2, 'i': 3, 'dog': 4, 'cat': 5, 'you': 6}\n"
     ]
    }
   ],
   "source": [
    "from tensorflow.keras.preprocessing.text import Tokenizer\n",
    "\n",
    "sentences = [\n",
    "    'i love my dog',\n",
    "    'I, love my cat',\n",
    "    'You love my dog!'\n",
    "]\n",
    "\n",
    "# 1.1 创建一个分词器实例， 并设置num_words = 100，\n",
    "# 表示要建立一个有100单词的词典\n",
    "# 当文本次数大于100时，分词器将选取出现频率最高的100嘅单词放入词典进行编码，\n",
    "# 因为那些频率较低的单词往往对神经网络的训练影响较小\n",
    "tokenizer = Tokenizer(num_words = 100)\n",
    "\n",
    "# 1.2 进行上述操作\n",
    "tokenizer.fit_on_texts(sentences)\n",
    "\n",
    "# 2. 得到该dict, 其中key为单词，value为对应的编码\n",
    "word_index = tokenizer.word_index\n",
    "print(word_index)"
   ]
  }
 ],
 "metadata": {
  "colab": {
   "collapsed_sections": [],
   "name": "Course 3 - Week 1 - Lesson 1.ipynb",
   "provenance": [],
   "version": "0.3.2"
  },
  "kernelspec": {
   "display_name": "Python 3",
   "language": "python",
   "name": "python3"
  },
  "language_info": {
   "codemirror_mode": {
    "name": "ipython",
    "version": 3
   },
   "file_extension": ".py",
   "mimetype": "text/x-python",
   "name": "python",
   "nbconvert_exporter": "python",
   "pygments_lexer": "ipython3",
   "version": "3.8.5"
  }
 },
 "nbformat": 4,
 "nbformat_minor": 4
}
