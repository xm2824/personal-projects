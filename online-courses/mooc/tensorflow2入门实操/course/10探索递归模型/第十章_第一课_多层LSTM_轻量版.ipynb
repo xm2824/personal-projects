{
 "cells": [
  {
   "cell_type": "markdown",
   "metadata": {
    "colab_type": "text",
    "id": "rFiCyWQ-NC5D"
   },
   "source": [
    "# Multiple Layer LSTM"
   ]
  },
  {
   "cell_type": "code",
   "execution_count": 1,
   "metadata": {
    "colab": {
     "base_uri": "https://localhost:8080/",
     "height": 35
    },
    "colab_type": "code",
    "executionInfo": {
     "elapsed": 2688,
     "status": "ok",
     "timestamp": 1597801190558,
     "user": {
      "displayName": "Tensorflow2 Material",
      "photoUrl": "",
      "userId": "10677934629717325810"
     },
     "user_tz": 420
    },
    "id": "Y20Lud2ZMBhW",
    "outputId": "16ed16fe-4b5a-466e-e500-0d5fe25151d2"
   },
   "outputs": [
    {
     "name": "stdout",
     "output_type": "stream",
     "text": [
      "2.4.1\n"
     ]
    }
   ],
   "source": [
    "from __future__ import absolute_import, division, print_function, unicode_literals\n",
    "\n",
    "\n",
    "import tensorflow_datasets as tfds\n",
    "import tensorflow as tf\n",
    "print(tf.__version__)"
   ]
  },
  {
   "cell_type": "code",
   "execution_count": 2,
   "metadata": {
    "colab": {
     "base_uri": "https://localhost:8080/",
     "height": 35
    },
    "colab_type": "code",
    "executionInfo": {
     "elapsed": 401,
     "status": "ok",
     "timestamp": 1597806033076,
     "user": {
      "displayName": "Tensorflow2 Material",
      "photoUrl": "",
      "userId": "10677934629717325810"
     },
     "user_tz": 420
    },
    "id": "uAU8g7C0MPZE",
    "outputId": "a72ff07c-087f-42f2-87f0-b39244c23e00"
   },
   "outputs": [
    {
     "name": "stdout",
     "output_type": "stream",
     "text": [
      "2.4.1\n"
     ]
    }
   ],
   "source": [
    "import tensorflow_datasets as tfds\n",
    "import tensorflow as tf\n",
    "print(tf.__version__)"
   ]
  },
  {
   "cell_type": "code",
   "execution_count": 3,
   "metadata": {
    "colab": {},
    "colab_type": "code",
    "executionInfo": {
     "elapsed": 560,
     "status": "ok",
     "timestamp": 1597807528645,
     "user": {
      "displayName": "Tensorflow2 Material",
      "photoUrl": "",
      "userId": "10677934629717325810"
     },
     "user_tz": 420
    },
    "id": "AW-4Vo4TMUHb"
   },
   "outputs": [
    {
     "name": "stderr",
     "output_type": "stream",
     "text": [
      "WARNING:absl:TFDS datasets with text encoding are deprecated and will be removed in a future version. Instead, you should use the plain text version and tokenize the text using `tensorflow_text` (See: https://www.tensorflow.org/tutorials/tensorflow_text/intro#tfdata_example)\n"
     ]
    }
   ],
   "source": [
    "# Get the data\n",
    "# dataset, info = tfds.load('imdb_reviews/subwords8k', with_info=True, as_supervised=True)\n",
    "# train_dataset, test_dataset = dataset['train'], dataset['test']\n",
    "dataset, info = tfds.load('imdb_reviews/subwords8k', with_info=True, as_supervised=True)\n",
    "train_dataset, test_dataset = dataset['train'].take(4000), dataset['test'].take(1000)\n"
   ]
  },
  {
   "cell_type": "code",
   "execution_count": 4,
   "metadata": {
    "colab": {},
    "colab_type": "code",
    "executionInfo": {
     "elapsed": 361,
     "status": "ok",
     "timestamp": 1597807530234,
     "user": {
      "displayName": "Tensorflow2 Material",
      "photoUrl": "",
      "userId": "10677934629717325810"
     },
     "user_tz": 420
    },
    "id": "L11bIR6-PKvs"
   },
   "outputs": [],
   "source": [
    "tokenizer = info.features['text'].encoder"
   ]
  },
  {
   "cell_type": "code",
   "execution_count": 5,
   "metadata": {
    "colab": {
     "base_uri": "https://localhost:8080/",
     "height": 575
    },
    "colab_type": "code",
    "executionInfo": {
     "elapsed": 363,
     "status": "ok",
     "timestamp": 1597807532206,
     "user": {
      "displayName": "Tensorflow2 Material",
      "photoUrl": "",
      "userId": "10677934629717325810"
     },
     "user_tz": 420
    },
    "id": "e4pF2oigYbpk",
    "outputId": "778c87da-8c0f-4d8f-88a2-dc75821ae113"
   },
   "outputs": [
    {
     "name": "stdout",
     "output_type": "stream",
     "text": [
      "tfds.core.DatasetInfo(\n",
      "    name='imdb_reviews',\n",
      "    full_name='imdb_reviews/subwords8k/1.0.0',\n",
      "    description=\"\"\"\n",
      "    Large Movie Review Dataset.\n",
      "    This is a dataset for binary sentiment classification containing substantially more data than previous benchmark datasets. We provide a set of 25,000 highly polar movie reviews for training, and 25,000 for testing. There is additional unlabeled data for use as well.\n",
      "    \"\"\",\n",
      "    config_description=\"\"\"\n",
      "    Uses `tfds.deprecated.text.SubwordTextEncoder` with 8k vocab size\n",
      "    \"\"\",\n",
      "    homepage='http://ai.stanford.edu/~amaas/data/sentiment/',\n",
      "    data_path='/home/yunshu/tensorflow_datasets/imdb_reviews/subwords8k/1.0.0',\n",
      "    download_size=80.23 MiB,\n",
      "    dataset_size=54.72 MiB,\n",
      "    features=FeaturesDict({\n",
      "        'label': ClassLabel(shape=(), dtype=tf.int64, num_classes=2),\n",
      "        'text': Text(shape=(None,), dtype=tf.int64, encoder=<SubwordTextEncoder vocab_size=8185>),\n",
      "    }),\n",
      "    supervised_keys=('text', 'label'),\n",
      "    splits={\n",
      "        'test': <SplitInfo num_examples=25000, num_shards=1>,\n",
      "        'train': <SplitInfo num_examples=25000, num_shards=1>,\n",
      "        'unsupervised': <SplitInfo num_examples=50000, num_shards=1>,\n",
      "    },\n",
      "    citation=\"\"\"@InProceedings{maas-EtAl:2011:ACL-HLT2011,\n",
      "      author    = {Maas, Andrew L.  and  Daly, Raymond E.  and  Pham, Peter T.  and  Huang, Dan  and  Ng, Andrew Y.  and  Potts, Christopher},\n",
      "      title     = {Learning Word Vectors for Sentiment Analysis},\n",
      "      booktitle = {Proceedings of the 49th Annual Meeting of the Association for Computational Linguistics: Human Language Technologies},\n",
      "      month     = {June},\n",
      "      year      = {2011},\n",
      "      address   = {Portland, Oregon, USA},\n",
      "      publisher = {Association for Computational Linguistics},\n",
      "      pages     = {142--150},\n",
      "      url       = {http://www.aclweb.org/anthology/P11-1015}\n",
      "    }\"\"\",\n",
      ")\n"
     ]
    }
   ],
   "source": [
    "print(info)"
   ]
  },
  {
   "cell_type": "code",
   "execution_count": 6,
   "metadata": {
    "colab": {},
    "colab_type": "code",
    "executionInfo": {
     "elapsed": 521,
     "status": "ok",
     "timestamp": 1597807535456,
     "user": {
      "displayName": "Tensorflow2 Material",
      "photoUrl": "",
      "userId": "10677934629717325810"
     },
     "user_tz": 420
    },
    "id": "ffvRUI0_McDS"
   },
   "outputs": [],
   "source": [
    "BUFFER_SIZE = 100\n",
    "BATCH_SIZE = 100\n",
    "\n",
    "train_dataset = train_dataset.shuffle(BUFFER_SIZE).take(1000)\n",
    "train_dataset = train_dataset.padded_batch(BATCH_SIZE)\n",
    "test_dataset = test_dataset.padded_batch(BATCH_SIZE).take(1000)"
   ]
  },
  {
   "cell_type": "code",
   "execution_count": 7,
   "metadata": {
    "colab": {},
    "colab_type": "code",
    "executionInfo": {
     "elapsed": 1396,
     "status": "ok",
     "timestamp": 1597808284909,
     "user": {
      "displayName": "Tensorflow2 Material",
      "photoUrl": "",
      "userId": "10677934629717325810"
     },
     "user_tz": 420
    },
    "id": "jo1jjO3vn0jo"
   },
   "outputs": [],
   "source": [
    "vocab_size = 1000\n",
    "model = tf.keras.Sequential([\n",
    "    tf.keras.layers.Embedding(tokenizer.vocab_size, 8),\n",
    "    tf.keras.layers.Bidirectional(tf.keras.layers.LSTM(8, return_sequences=True)),\n",
    "    tf.keras.layers.Bidirectional(tf.keras.layers.LSTM(8)),\n",
    "    tf.keras.layers.Dense(16, activation='relu'),\n",
    "    tf.keras.layers.Dense(1, activation='sigmoid')\n",
    "])"
   ]
  },
  {
   "cell_type": "code",
   "execution_count": 8,
   "metadata": {
    "colab": {
     "base_uri": "https://localhost:8080/",
     "height": 329
    },
    "colab_type": "code",
    "executionInfo": {
     "elapsed": 385,
     "status": "ok",
     "timestamp": 1597808286338,
     "user": {
      "displayName": "Tensorflow2 Material",
      "photoUrl": "",
      "userId": "10677934629717325810"
     },
     "user_tz": 420
    },
    "id": "QKI5dfPgMioL",
    "outputId": "b1a9174a-ef8a-493e-b1f6-68558f5b89a2"
   },
   "outputs": [
    {
     "name": "stdout",
     "output_type": "stream",
     "text": [
      "Model: \"sequential\"\n",
      "_________________________________________________________________\n",
      "Layer (type)                 Output Shape              Param #   \n",
      "=================================================================\n",
      "embedding (Embedding)        (None, None, 8)           65480     \n",
      "_________________________________________________________________\n",
      "bidirectional (Bidirectional (None, None, 16)          1088      \n",
      "_________________________________________________________________\n",
      "bidirectional_1 (Bidirection (None, 16)                1600      \n",
      "_________________________________________________________________\n",
      "dense (Dense)                (None, 16)                272       \n",
      "_________________________________________________________________\n",
      "dense_1 (Dense)              (None, 1)                 17        \n",
      "=================================================================\n",
      "Total params: 68,457\n",
      "Trainable params: 68,457\n",
      "Non-trainable params: 0\n",
      "_________________________________________________________________\n"
     ]
    }
   ],
   "source": [
    "model.summary()"
   ]
  },
  {
   "cell_type": "code",
   "execution_count": 9,
   "metadata": {
    "colab": {},
    "colab_type": "code",
    "executionInfo": {
     "elapsed": 352,
     "status": "ok",
     "timestamp": 1597808289073,
     "user": {
      "displayName": "Tensorflow2 Material",
      "photoUrl": "",
      "userId": "10677934629717325810"
     },
     "user_tz": 420
    },
    "id": "Uip7QOVzMoMq"
   },
   "outputs": [],
   "source": [
    "model.compile(loss='binary_crossentropy', optimizer='adam', metrics=['accuracy'])"
   ]
  },
  {
   "cell_type": "code",
   "execution_count": 10,
   "metadata": {
    "colab": {
     "base_uri": "https://localhost:8080/",
     "height": 384
    },
    "colab_type": "code",
    "executionInfo": {
     "elapsed": 884872,
     "status": "ok",
     "timestamp": 1597809178544,
     "user": {
      "displayName": "Tensorflow2 Material",
      "photoUrl": "",
      "userId": "10677934629717325810"
     },
     "user_tz": 420
    },
    "id": "7mlgzaRDMtF6",
    "outputId": "0b4328a1-f082-4b5b-93de-49c4001657e3"
   },
   "outputs": [
    {
     "name": "stdout",
     "output_type": "stream",
     "text": [
      "Epoch 1/10\n",
      "10/10 [==============================] - 13s 975ms/step - loss: 0.6932 - accuracy: 0.4875 - val_loss: 0.6933 - val_accuracy: 0.4970\n",
      "Epoch 2/10\n",
      "10/10 [==============================] - 7s 738ms/step - loss: 0.6921 - accuracy: 0.5104 - val_loss: 0.6933 - val_accuracy: 0.4970\n",
      "Epoch 3/10\n",
      "10/10 [==============================] - 7s 776ms/step - loss: 0.6902 - accuracy: 0.5088 - val_loss: 0.6929 - val_accuracy: 0.4970\n",
      "Epoch 4/10\n",
      "10/10 [==============================] - 7s 740ms/step - loss: 0.6853 - accuracy: 0.5119 - val_loss: 0.6915 - val_accuracy: 0.4970\n",
      "Epoch 5/10\n",
      "10/10 [==============================] - 7s 732ms/step - loss: 0.6717 - accuracy: 0.5249 - val_loss: 0.6869 - val_accuracy: 0.5120\n",
      "Epoch 6/10\n",
      "10/10 [==============================] - 7s 725ms/step - loss: 0.6245 - accuracy: 0.6617 - val_loss: 0.6652 - val_accuracy: 0.6010\n",
      "Epoch 7/10\n",
      "10/10 [==============================] - 7s 754ms/step - loss: 0.5250 - accuracy: 0.8814 - val_loss: 0.6589 - val_accuracy: 0.6580\n",
      "Epoch 8/10\n",
      "10/10 [==============================] - 7s 735ms/step - loss: 0.4295 - accuracy: 0.9559 - val_loss: 0.6577 - val_accuracy: 0.6690\n",
      "Epoch 9/10\n",
      "10/10 [==============================] - 7s 767ms/step - loss: 0.3467 - accuracy: 0.9799 - val_loss: 0.7183 - val_accuracy: 0.6810\n",
      "Epoch 10/10\n",
      "10/10 [==============================] - 8s 812ms/step - loss: 0.2967 - accuracy: 0.9850 - val_loss: 0.8752 - val_accuracy: 0.6610\n"
     ]
    }
   ],
   "source": [
    "NUM_EPOCHS = 10\n",
    "history = model.fit(train_dataset, epochs=NUM_EPOCHS, validation_data=test_dataset)"
   ]
  },
  {
   "cell_type": "code",
   "execution_count": 11,
   "metadata": {
    "colab": {},
    "colab_type": "code",
    "id": "Mp1Z7P9pYRSK"
   },
   "outputs": [],
   "source": [
    "import matplotlib.pyplot as plt\n",
    "\n",
    "\n",
    "def plot_graphs(history, string):\n",
    "  plt.plot(history.history[string])\n",
    "  plt.plot(history.history['val_'+string])\n",
    "  plt.xlabel(\"Epochs\")\n",
    "  plt.ylabel(string)\n",
    "  plt.legend([string, 'val_'+string])\n",
    "  plt.show()"
   ]
  },
  {
   "cell_type": "code",
   "execution_count": 12,
   "metadata": {
    "colab": {},
    "colab_type": "code",
    "id": "R_sX6ilIM515"
   },
   "outputs": [
    {
     "data": {
      "image/png": "[encoded data removed]",
      "text/plain": [
       "<Figure size 432x288 with 1 Axes>"
      ]
     },
     "metadata": {
      "needs_background": "light"
     },
     "output_type": "display_data"
    }
   ],
   "source": [
    "plot_graphs(history, 'accuracy')"
   ]
  },
  {
   "cell_type": "code",
   "execution_count": 13,
   "metadata": {
    "colab": {},
    "colab_type": "code",
    "id": "RFEXtKtqNARB"
   },
   "outputs": [
    {
     "data": {
      "image/png": "[encoded data removed]",
      "text/plain": [
       "<Figure size 432x288 with 1 Axes>"
      ]
     },
     "metadata": {
      "needs_background": "light"
     },
     "output_type": "display_data"
    }
   ],
   "source": [
    "plot_graphs(history, 'loss')"
   ]
  }
 ],
 "metadata": {
  "colab": {
   "collapsed_sections": [],
   "name": "Part 15 - Lesson 1b.ipynb",
   "provenance": []
  },
  "kernelspec": {
   "display_name": "Python 3",
   "language": "python",
   "name": "python3"
  },
  "language_info": {
   "codemirror_mode": {
    "name": "ipython",
    "version": 3
   },
   "file_extension": ".py",
   "mimetype": "text/x-python",
   "name": "python",
   "nbconvert_exporter": "python",
   "pygments_lexer": "ipython3",
   "version": "3.8.5"
  }
 },
 "nbformat": 4,
 "nbformat_minor": 4
}
